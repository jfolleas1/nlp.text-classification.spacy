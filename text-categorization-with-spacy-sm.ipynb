{
 "cells": [
  {
   "cell_type": "code",
   "execution_count": 1,
   "id": "918e6dbb",
   "metadata": {},
   "outputs": [],
   "source": [
    "# !pip install spacy"
   ]
  },
  {
   "cell_type": "code",
   "execution_count": 2,
   "id": "7f8b13a0",
   "metadata": {},
   "outputs": [],
   "source": [
    "# !python -m spacy download en_core_web_sm"
   ]
  },
  {
   "cell_type": "code",
   "execution_count": 3,
   "id": "0c93b99d",
   "metadata": {},
   "outputs": [],
   "source": [
    "# !pip install torch"
   ]
  },
  {
   "cell_type": "markdown",
   "id": "56607aff",
   "metadata": {},
   "source": [
    "# Sentiment analysis with Spacy SM model\n",
    "\n",
    "The idea of this notebook is to test the framework spacy in order to do text classification. In order to do so we will work in the classical case of sentiment analysis. The data used come from the follwoing [kaggle competion](https://www.kaggle.com/c/tweet-sentiment-extraction). It contains about 25K tweets annotated with sentiments. It also contains subtext which actually contains the sentiment, but we won't use it in this task. The data will be stored in a `data` folder beside the git repository folder."
   ]
  },
  {
   "cell_type": "markdown",
   "id": "90ab7637",
   "metadata": {},
   "source": [
    "## Imports"
   ]
  },
  {
   "cell_type": "code",
   "execution_count": 25,
   "id": "b124aec2",
   "metadata": {},
   "outputs": [],
   "source": [
    "import os\n",
    "\n",
    "import torch\n",
    "import random\n",
    "import pandas as pd\n",
    "\n",
    "import spacy\n",
    "from spacy.util import minibatch, compounding\n",
    "from spacy.training import Example\n",
    "from spacy.tokens import DocBin\n",
    "from spacy.lang.en import English\n",
    "from spacy.lang.en.stop_words import STOP_WORDS\n",
    "import en_core_web_sm\n",
    "\n",
    "from sklearn.metrics import accuracy_score,\\\n",
    "    f1_score, recall_score, precision_score, confusion_matrix\n",
    "\n",
    "import seaborn as sns\n",
    "import matplotlib.pyplot as plt\n",
    "\n",
    "from tqdm import tqdm_notebook as  tqdm"
   ]
  },
  {
   "cell_type": "markdown",
   "id": "52bc0cb4",
   "metadata": {},
   "source": [
    "## Loading data"
   ]
  },
  {
   "cell_type": "code",
   "execution_count": 5,
   "id": "50ed829c",
   "metadata": {},
   "outputs": [
    {
     "name": "stdout",
     "output_type": "stream",
     "text": [
      "(27481, 4)\n"
     ]
    },
    {
     "data": {
      "text/html": [
       "<div>\n",
       "<style scoped>\n",
       "    .dataframe tbody tr th:only-of-type {\n",
       "        vertical-align: middle;\n",
       "    }\n",
       "\n",
       "    .dataframe tbody tr th {\n",
       "        vertical-align: top;\n",
       "    }\n",
       "\n",
       "    .dataframe thead th {\n",
       "        text-align: right;\n",
       "    }\n",
       "</style>\n",
       "<table border=\"1\" class=\"dataframe\">\n",
       "  <thead>\n",
       "    <tr style=\"text-align: right;\">\n",
       "      <th></th>\n",
       "      <th>textID</th>\n",
       "      <th>text</th>\n",
       "      <th>selected_text</th>\n",
       "      <th>sentiment</th>\n",
       "    </tr>\n",
       "  </thead>\n",
       "  <tbody>\n",
       "    <tr>\n",
       "      <th>0</th>\n",
       "      <td>cb774db0d1</td>\n",
       "      <td>I`d have responded, if I were going</td>\n",
       "      <td>I`d have responded, if I were going</td>\n",
       "      <td>neutral</td>\n",
       "    </tr>\n",
       "    <tr>\n",
       "      <th>1</th>\n",
       "      <td>549e992a42</td>\n",
       "      <td>Sooo SAD I will miss you here in San Diego!!!</td>\n",
       "      <td>Sooo SAD</td>\n",
       "      <td>negative</td>\n",
       "    </tr>\n",
       "    <tr>\n",
       "      <th>2</th>\n",
       "      <td>088c60f138</td>\n",
       "      <td>my boss is bullying me...</td>\n",
       "      <td>bullying me</td>\n",
       "      <td>negative</td>\n",
       "    </tr>\n",
       "    <tr>\n",
       "      <th>3</th>\n",
       "      <td>9642c003ef</td>\n",
       "      <td>what interview! leave me alone</td>\n",
       "      <td>leave me alone</td>\n",
       "      <td>negative</td>\n",
       "    </tr>\n",
       "    <tr>\n",
       "      <th>4</th>\n",
       "      <td>358bd9e861</td>\n",
       "      <td>Sons of ****, why couldn`t they put them on t...</td>\n",
       "      <td>Sons of ****,</td>\n",
       "      <td>negative</td>\n",
       "    </tr>\n",
       "  </tbody>\n",
       "</table>\n",
       "</div>"
      ],
      "text/plain": [
       "       textID                                               text  \\\n",
       "0  cb774db0d1                I`d have responded, if I were going   \n",
       "1  549e992a42      Sooo SAD I will miss you here in San Diego!!!   \n",
       "2  088c60f138                          my boss is bullying me...   \n",
       "3  9642c003ef                     what interview! leave me alone   \n",
       "4  358bd9e861   Sons of ****, why couldn`t they put them on t...   \n",
       "\n",
       "                         selected_text sentiment  \n",
       "0  I`d have responded, if I were going   neutral  \n",
       "1                             Sooo SAD  negative  \n",
       "2                          bullying me  negative  \n",
       "3                       leave me alone  negative  \n",
       "4                        Sons of ****,  negative  "
      ]
     },
     "execution_count": 5,
     "metadata": {},
     "output_type": "execute_result"
    }
   ],
   "source": [
    "tweet_sentiment_df = pd.read_csv('../data/tweet_sentiment.csv')\n",
    "print(tweet_sentiment_df.shape)\n",
    "tweet_sentiment_df.head()"
   ]
  },
  {
   "cell_type": "markdown",
   "id": "34ac435a",
   "metadata": {},
   "source": [
    "### Count the number of texts within each class"
   ]
  },
  {
   "cell_type": "code",
   "execution_count": 6,
   "id": "6311dcf8",
   "metadata": {},
   "outputs": [
    {
     "data": {
      "text/plain": [
       "neutral     11118\n",
       "positive     8582\n",
       "negative     7781\n",
       "Name: sentiment, dtype: int64"
      ]
     },
     "execution_count": 6,
     "metadata": {},
     "output_type": "execute_result"
    }
   ],
   "source": [
    "tweet_sentiment_df.sentiment.value_counts()"
   ]
  },
  {
   "cell_type": "markdown",
   "id": "b6a3e838",
   "metadata": {},
   "source": [
    "#### *Observation*:\n",
    "The dataset seems fairly balanced between the 3 difference classes. However we will still resample it for the training only in order to have perfectly balnced classes."
   ]
  },
  {
   "cell_type": "markdown",
   "id": "b4893bc5",
   "metadata": {},
   "source": [
    "## Data preprocessing "
   ]
  },
  {
   "cell_type": "code",
   "execution_count": 7,
   "id": "f7fb09a7",
   "metadata": {},
   "outputs": [],
   "source": [
    "# Drop null values\n",
    "tweet_sentiment_df = tweet_sentiment_df.dropna()"
   ]
  },
  {
   "cell_type": "markdown",
   "id": "a7ea6aca",
   "metadata": {},
   "source": [
    "### Format data in order to be compatible with spacy framework"
   ]
  },
  {
   "cell_type": "code",
   "execution_count": 8,
   "id": "ee094334",
   "metadata": {},
   "outputs": [],
   "source": [
    "def format_text_and_sentiment(row, text_col: str = 'text'):\n",
    "    return (row[text_col], {\"cats\": {k: 1.0 if (row['sentiment'] == k) else 0.0 for k in ['negative', 'neutral', 'positive']}})"
   ]
  },
  {
   "cell_type": "code",
   "execution_count": 9,
   "id": "8e62e60d",
   "metadata": {},
   "outputs": [
    {
     "name": "stderr",
     "output_type": "stream",
     "text": [
      "/opt/conda/lib/python3.7/site-packages/ipykernel_launcher.py:1: TqdmDeprecationWarning: This function will be removed in tqdm==5.0.0\n",
      "Please use `tqdm.notebook.tqdm` instead of `tqdm.tqdm_notebook`\n",
      "  \"\"\"Entry point for launching an IPython kernel.\n"
     ]
    },
    {
     "data": {
      "application/vnd.jupyter.widget-view+json": {
       "model_id": "8b19511ef27743aeb871fec55b56e343",
       "version_major": 2,
       "version_minor": 0
      },
      "text/plain": [
       "  0%|          | 0/27480 [00:00<?, ?it/s]"
      ]
     },
     "metadata": {},
     "output_type": "display_data"
    }
   ],
   "source": [
    "tweets = [format_text_and_sentiment(dict(zip(tweet_sentiment_df.columns, row))) for row in tqdm(tweet_sentiment_df.values)]"
   ]
  },
  {
   "cell_type": "markdown",
   "id": "7bb6078d",
   "metadata": {},
   "source": [
    "#### Shuffle data"
   ]
  },
  {
   "cell_type": "code",
   "execution_count": 10,
   "id": "3eceb31f",
   "metadata": {},
   "outputs": [
    {
     "name": "stdout",
     "output_type": "stream",
     "text": [
      "Original first tweet :  (' I`d have responded, if I were going', {'cats': {'negative': 0.0, 'neutral': 1.0, 'positive': 0.0}})\n",
      "After shuffling first tweet :  ('Bottle of reisling this time... My favorite!', {'cats': {'negative': 0.0, 'neutral': 0.0, 'positive': 1.0}})\n"
     ]
    }
   ],
   "source": [
    "shuffle_tweets = tweets.copy()\n",
    "random.seed(42)\n",
    "print(\"Original first tweet : \", shuffle_tweets[0])\n",
    "random.shuffle(shuffle_tweets)\n",
    "print(\"After shuffling first tweet : \", shuffle_tweets[0])"
   ]
  },
  {
   "cell_type": "markdown",
   "id": "367e9f8b",
   "metadata": {},
   "source": [
    "### Split the data between train, val and test\n",
    "\n",
    "We will also resample the training dataset in order to make it perfectly balanced"
   ]
  },
  {
   "cell_type": "code",
   "execution_count": 11,
   "id": "e1a11380",
   "metadata": {},
   "outputs": [
    {
     "name": "stdout",
     "output_type": "stream",
     "text": [
      "Initial nb positive :  7561\n",
      "Nb positive in train :  4000\n",
      "Initial nb neutral :  9657\n",
      "Nb neutral in train :  4000\n",
      "Initial nb negative :  6782\n",
      "Nb negative in train :  4000\n",
      "Lenght train :  12000\n",
      "Lenght val :  1000\n",
      "Lenght test :  2000\n"
     ]
    }
   ],
   "source": [
    "pre_train, val, test = tweets[:24000], tweets[24000:25000], tweets[25000:27000]\n",
    "\n",
    "pre_train_positive = [example for example in pre_train if example[1]['cats']['positive'] == 1.]\n",
    "print(\"Initial nb positive : \", len(pre_train_positive))\n",
    "train_positive = random.sample(pre_train_positive,k=4000)\n",
    "print(\"Nb positive in train : \", len(train_positive))\n",
    "\n",
    "pre_train_neutral = [example for example in pre_train if example[1]['cats']['neutral'] == 1.]\n",
    "print(\"Initial nb neutral : \", len(pre_train_neutral))\n",
    "train_neutral = random.sample(pre_train_neutral,k=4000)\n",
    "print(\"Nb neutral in train : \", len(train_neutral))\n",
    "\n",
    "pre_train_negative = [example for example in pre_train if example[1]['cats']['negative'] == 1.]\n",
    "print(\"Initial nb negative : \", len(pre_train_negative))\n",
    "train_negative = random.sample(pre_train_negative,k=4000)\n",
    "print(\"Nb negative in train : \", len(train_negative))\n",
    "\n",
    "train = train_positive + train_neutral + train_negative\n",
    "print('Lenght train : ', len(train))\n",
    "print('Lenght val : ', len(val))\n",
    "print('Lenght test : ', len(test))"
   ]
  },
  {
   "cell_type": "markdown",
   "id": "02c5df62",
   "metadata": {},
   "source": [
    "## Modeling\n",
    "\n",
    "#### Use GPU if it is available"
   ]
  },
  {
   "cell_type": "code",
   "execution_count": 12,
   "id": "c21c51e6",
   "metadata": {},
   "outputs": [],
   "source": [
    "is_using_gpu = spacy.prefer_gpu()\n",
    "if is_using_gpu:\n",
    "    print(\"Is using GPU\")\n",
    "    torch.set_default_tensor_type(\"torch.cuda.FloatTensor\")"
   ]
  },
  {
   "cell_type": "markdown",
   "id": "dd3c9fe9",
   "metadata": {},
   "source": [
    "#### Load the prebuilt model from spacy"
   ]
  },
  {
   "cell_type": "code",
   "execution_count": 13,
   "id": "31c0413a",
   "metadata": {},
   "outputs": [],
   "source": [
    "nlp = en_core_web_sm.load()"
   ]
  },
  {
   "cell_type": "markdown",
   "id": "b33897a1",
   "metadata": {},
   "source": [
    "#### Add Text categorizer in the pipeline of the model"
   ]
  },
  {
   "cell_type": "code",
   "execution_count": 14,
   "id": "26b264ba",
   "metadata": {},
   "outputs": [
    {
     "name": "stdout",
     "output_type": "stream",
     "text": [
      "Original pipeline :  ['tok2vec', 'tagger', 'parser', 'ner', 'attribute_ruler', 'lemmatizer']\n",
      "New pipeline :  ['tok2vec', 'tagger', 'parser', 'ner', 'attribute_ruler', 'lemmatizer', 'textcat']\n"
     ]
    }
   ],
   "source": [
    "print(\"Original pipeline : \", nlp.pipe_names)\n",
    "\n",
    "textcat = nlp.add_pipe(\"textcat\")\n",
    "for label in (\"positive\", \"neutral\", \"negative\"):\n",
    "    textcat.add_label(label)\n",
    "\n",
    "print(\"New pipeline : \", nlp.pipe_names)"
   ]
  },
  {
   "cell_type": "markdown",
   "id": "ac513394",
   "metadata": {},
   "source": [
    "#### Function to evaluate the model on the validation or the test dataset\n",
    "(I know I could have paralellize this piece of code for efficienty, but as the code was still runing in reasonable time, and as it wasn't the purpose of this notebook, I decided not to for easier readability.)"
   ]
  },
  {
   "cell_type": "code",
   "execution_count": 15,
   "id": "2ca532a0",
   "metadata": {},
   "outputs": [],
   "source": [
    "def evaluate_model(\n",
    "    nlp, test_data: list\n",
    ") -> dict:\n",
    "    reviews, labels = [x[0] for x in test_data], [x[1] for x in test_data]\n",
    "    predicted_labels = []\n",
    "    true_labels = []\n",
    "    for i, review in tqdm(enumerate(reviews)):\n",
    "        positive_score = nlp(review).cats[\"positive\"]\n",
    "        neutral_score = nlp(review).cats[\"neutral\"]\n",
    "        negative_score = nlp(review).cats[\"negative\"]\n",
    "        if (positive_score > neutral_score) and (positive_score > negative_score):\n",
    "            predicted_labels.append(\"positive\")\n",
    "        elif (negative_score > neutral_score) and (negative_score > positive_score):\n",
    "            predicted_labels.append(\"negative\")\n",
    "        else:\n",
    "            predicted_labels.append(\"neutral\")\n",
    "\n",
    "        if labels[i][\"cats\"][\"positive\"] > 0.5:\n",
    "            true_labels.append(\"positive\")\n",
    "        elif labels[i][\"cats\"][\"negative\"] > 0.5:\n",
    "            true_labels.append(\"negative\")\n",
    "        else:\n",
    "            true_labels.append(\"neutral\")\n",
    "\n",
    "    precision = precision_score(true_labels, predicted_labels, average='weighted')\n",
    "    recall = recall_score(true_labels, predicted_labels, average='weighted')\n",
    "    f1 = f1_score(true_labels, predicted_labels, average='weighted')\n",
    "    return {\"precision\": round(precision, 5),\n",
    "            \"recall\": round(recall, 5),\n",
    "            \"f1-score\": round(f1, 5)}"
   ]
  },
  {
   "cell_type": "markdown",
   "id": "9a91f048",
   "metadata": {},
   "source": [
    "### Model training"
   ]
  },
  {
   "cell_type": "code",
   "execution_count": 16,
   "id": "e71eea7d",
   "metadata": {},
   "outputs": [
    {
     "name": "stderr",
     "output_type": "stream",
     "text": [
      "/opt/conda/lib/python3.7/site-packages/ipykernel_launcher.py:22: TqdmDeprecationWarning: This function will be removed in tqdm==5.0.0\n",
      "Please use `tqdm.notebook.tqdm` instead of `tqdm.tqdm_notebook`\n"
     ]
    },
    {
     "data": {
      "application/vnd.jupyter.widget-view+json": {
       "model_id": "65cd025f59cc43bfa9558d8feba8184d",
       "version_major": 2,
       "version_minor": 0
      },
      "text/plain": [
       "0it [00:00, ?it/s]"
      ]
     },
     "metadata": {},
     "output_type": "display_data"
    },
    {
     "name": "stdout",
     "output_type": "stream",
     "text": [
      "Loss after 1/5 :  {'tok2vec': 0.0, 'textcat': 0.026421746821142733}\n"
     ]
    },
    {
     "name": "stderr",
     "output_type": "stream",
     "text": [
      "/opt/conda/lib/python3.7/site-packages/ipykernel_launcher.py:12: TqdmDeprecationWarning: This function will be removed in tqdm==5.0.0\n",
      "Please use `tqdm.notebook.tqdm` instead of `tqdm.tqdm_notebook`\n",
      "  if sys.path[0] == '':\n"
     ]
    },
    {
     "data": {
      "application/vnd.jupyter.widget-view+json": {
       "model_id": "f011116046ea499aa813256166d96926",
       "version_major": 2,
       "version_minor": 0
      },
      "text/plain": [
       "0it [00:00, ?it/s]"
      ]
     },
     "metadata": {},
     "output_type": "display_data"
    },
    {
     "name": "stdout",
     "output_type": "stream",
     "text": [
      "{'precision': 0.66685, 'recall': 0.642, 'f1-score': 0.64393, 'epoch': 1}\n"
     ]
    },
    {
     "name": "stderr",
     "output_type": "stream",
     "text": [
      "/opt/conda/lib/python3.7/site-packages/ipykernel_launcher.py:22: TqdmDeprecationWarning: This function will be removed in tqdm==5.0.0\n",
      "Please use `tqdm.notebook.tqdm` instead of `tqdm.tqdm_notebook`\n"
     ]
    },
    {
     "data": {
      "application/vnd.jupyter.widget-view+json": {
       "model_id": "9e4226c1a5a64931839e2284f641ffd6",
       "version_major": 2,
       "version_minor": 0
      },
      "text/plain": [
       "0it [00:00, ?it/s]"
      ]
     },
     "metadata": {},
     "output_type": "display_data"
    },
    {
     "name": "stdout",
     "output_type": "stream",
     "text": [
      "Loss after 2/5 :  {'tok2vec': 0.0, 'textcat': 0.020355791464680806}\n"
     ]
    },
    {
     "name": "stderr",
     "output_type": "stream",
     "text": [
      "/opt/conda/lib/python3.7/site-packages/ipykernel_launcher.py:12: TqdmDeprecationWarning: This function will be removed in tqdm==5.0.0\n",
      "Please use `tqdm.notebook.tqdm` instead of `tqdm.tqdm_notebook`\n",
      "  if sys.path[0] == '':\n"
     ]
    },
    {
     "data": {
      "application/vnd.jupyter.widget-view+json": {
       "model_id": "57a529c755b14a5c81e3982b29b52d3c",
       "version_major": 2,
       "version_minor": 0
      },
      "text/plain": [
       "0it [00:00, ?it/s]"
      ]
     },
     "metadata": {},
     "output_type": "display_data"
    },
    {
     "name": "stdout",
     "output_type": "stream",
     "text": [
      "{'precision': 0.67811, 'recall': 0.675, 'f1-score': 0.67336, 'epoch': 2}\n"
     ]
    },
    {
     "name": "stderr",
     "output_type": "stream",
     "text": [
      "/opt/conda/lib/python3.7/site-packages/ipykernel_launcher.py:22: TqdmDeprecationWarning: This function will be removed in tqdm==5.0.0\n",
      "Please use `tqdm.notebook.tqdm` instead of `tqdm.tqdm_notebook`\n"
     ]
    },
    {
     "data": {
      "application/vnd.jupyter.widget-view+json": {
       "model_id": "e8d05bcbec5e495090e8e049ae46f03f",
       "version_major": 2,
       "version_minor": 0
      },
      "text/plain": [
       "0it [00:00, ?it/s]"
      ]
     },
     "metadata": {},
     "output_type": "display_data"
    },
    {
     "name": "stdout",
     "output_type": "stream",
     "text": [
      "Loss after 3/5 :  {'tok2vec': 0.0, 'textcat': 0.017308456350292545}\n"
     ]
    },
    {
     "name": "stderr",
     "output_type": "stream",
     "text": [
      "/opt/conda/lib/python3.7/site-packages/ipykernel_launcher.py:12: TqdmDeprecationWarning: This function will be removed in tqdm==5.0.0\n",
      "Please use `tqdm.notebook.tqdm` instead of `tqdm.tqdm_notebook`\n",
      "  if sys.path[0] == '':\n"
     ]
    },
    {
     "data": {
      "application/vnd.jupyter.widget-view+json": {
       "model_id": "181c2b3684054cc8ac1beb338193a986",
       "version_major": 2,
       "version_minor": 0
      },
      "text/plain": [
       "0it [00:00, ?it/s]"
      ]
     },
     "metadata": {},
     "output_type": "display_data"
    },
    {
     "name": "stdout",
     "output_type": "stream",
     "text": [
      "{'precision': 0.66842, 'recall': 0.658, 'f1-score': 0.65254, 'epoch': 3}\n"
     ]
    },
    {
     "name": "stderr",
     "output_type": "stream",
     "text": [
      "/opt/conda/lib/python3.7/site-packages/ipykernel_launcher.py:22: TqdmDeprecationWarning: This function will be removed in tqdm==5.0.0\n",
      "Please use `tqdm.notebook.tqdm` instead of `tqdm.tqdm_notebook`\n"
     ]
    },
    {
     "data": {
      "application/vnd.jupyter.widget-view+json": {
       "model_id": "346f965ace5c49f3b6aa13f6d9a51e77",
       "version_major": 2,
       "version_minor": 0
      },
      "text/plain": [
       "0it [00:00, ?it/s]"
      ]
     },
     "metadata": {},
     "output_type": "display_data"
    },
    {
     "name": "stdout",
     "output_type": "stream",
     "text": [
      "Loss after 4/5 :  {'tok2vec': 0.0, 'textcat': 0.014646464464021847}\n"
     ]
    },
    {
     "name": "stderr",
     "output_type": "stream",
     "text": [
      "/opt/conda/lib/python3.7/site-packages/ipykernel_launcher.py:12: TqdmDeprecationWarning: This function will be removed in tqdm==5.0.0\n",
      "Please use `tqdm.notebook.tqdm` instead of `tqdm.tqdm_notebook`\n",
      "  if sys.path[0] == '':\n"
     ]
    },
    {
     "data": {
      "application/vnd.jupyter.widget-view+json": {
       "model_id": "99e88f8a0d414f9fa39dccd9520824c1",
       "version_major": 2,
       "version_minor": 0
      },
      "text/plain": [
       "0it [00:00, ?it/s]"
      ]
     },
     "metadata": {},
     "output_type": "display_data"
    },
    {
     "name": "stdout",
     "output_type": "stream",
     "text": [
      "{'precision': 0.66792, 'recall': 0.653, 'f1-score': 0.6459, 'epoch': 4}\n"
     ]
    },
    {
     "name": "stderr",
     "output_type": "stream",
     "text": [
      "/opt/conda/lib/python3.7/site-packages/ipykernel_launcher.py:22: TqdmDeprecationWarning: This function will be removed in tqdm==5.0.0\n",
      "Please use `tqdm.notebook.tqdm` instead of `tqdm.tqdm_notebook`\n"
     ]
    },
    {
     "data": {
      "application/vnd.jupyter.widget-view+json": {
       "model_id": "bba127afab2e4e778093fb6a6eac4364",
       "version_major": 2,
       "version_minor": 0
      },
      "text/plain": [
       "0it [00:00, ?it/s]"
      ]
     },
     "metadata": {},
     "output_type": "display_data"
    },
    {
     "name": "stdout",
     "output_type": "stream",
     "text": [
      "Loss after 5/5 :  {'tok2vec': 0.0, 'textcat': 0.012276005563762737}\n"
     ]
    },
    {
     "name": "stderr",
     "output_type": "stream",
     "text": [
      "/opt/conda/lib/python3.7/site-packages/ipykernel_launcher.py:12: TqdmDeprecationWarning: This function will be removed in tqdm==5.0.0\n",
      "Please use `tqdm.notebook.tqdm` instead of `tqdm.tqdm_notebook`\n",
      "  if sys.path[0] == '':\n"
     ]
    },
    {
     "data": {
      "application/vnd.jupyter.widget-view+json": {
       "model_id": "7cc1efa995434b74980304ca682c179d",
       "version_major": 2,
       "version_minor": 0
      },
      "text/plain": [
       "0it [00:00, ?it/s]"
      ]
     },
     "metadata": {},
     "output_type": "display_data"
    },
    {
     "name": "stdout",
     "output_type": "stream",
     "text": [
      "{'precision': 0.67423, 'recall': 0.669, 'f1-score': 0.66413, 'epoch': 5}\n"
     ]
    }
   ],
   "source": [
    "nb_epochs = 5\n",
    "\n",
    "# Disable the part of the pipelines which aren't necessary\n",
    "with nlp.disable_pipes(['tagger', 'parser', 'ner', 'attribute_ruler', 'lemmatizer']):\n",
    "    # Create the optimizer\n",
    "    optimizer = nlp.create_optimizer()\n",
    "    # Build the exmple in with the right type for spacy model training\n",
    "    examples = []\n",
    "    for text, annots in train:\n",
    "        examples.append(Example.from_dict(nlp.make_doc(text), annots))\n",
    "    # Iniitalize the text categorizer\n",
    "    nlp.get_pipe(\"textcat\").initialize(lambda: examples, nlp=nlp)\n",
    "    # We will use the f1 score to juge the best model and save it during the training\n",
    "    best_f1_score = 0\n",
    "    list_of_epoch_performances = []\n",
    "    # Loop over the epochs \n",
    "    for i in range(1, nb_epochs+1):\n",
    "        # Shuffle the example at the begining of each epoch\n",
    "        random.shuffle(examples)\n",
    "        losses = {}\n",
    "        # loop over the batchs\n",
    "        for batch in tqdm(minibatch(examples, size=64)):\n",
    "            nlp.update(batch, sgd=optimizer, losses=losses, drop=0.2)\n",
    "        # Print the loss on the training data\n",
    "        print(f\"Loss after {i}/{nb_epochs} : \", losses)\n",
    "        # Evaluate model performances on the validation set\n",
    "        model_performances = evaluate_model(nlp, val)\n",
    "        # Log the current performances\n",
    "        model_performances['epoch'] = i\n",
    "        list_of_epoch_performances.append(model_performances)\n",
    "        print(model_performances)\n",
    "        # If the model was beter that ever on the validation set we update its saved version\n",
    "        if model_performances[\"f1-score\"] > best_f1_score:\n",
    "            nlp.to_disk(\"../models/sm-textcat\")"
   ]
  },
  {
   "cell_type": "markdown",
   "id": "e5db6229",
   "metadata": {},
   "source": [
    "### Save the logged performances of the model over the epochs"
   ]
  },
  {
   "cell_type": "code",
   "execution_count": 17,
   "id": "1e20b165",
   "metadata": {},
   "outputs": [],
   "source": [
    "epoch_performances_df = pd.DataFrame(list_of_epoch_performances)\n",
    "epoch_performances_df.to_csv('../data/spacy_sm_epoch_performances_df.csv')"
   ]
  },
  {
   "cell_type": "code",
   "execution_count": 18,
   "id": "ed3d3f34",
   "metadata": {},
   "outputs": [
    {
     "data": {
      "text/html": [
       "<div>\n",
       "<style scoped>\n",
       "    .dataframe tbody tr th:only-of-type {\n",
       "        vertical-align: middle;\n",
       "    }\n",
       "\n",
       "    .dataframe tbody tr th {\n",
       "        vertical-align: top;\n",
       "    }\n",
       "\n",
       "    .dataframe thead th {\n",
       "        text-align: right;\n",
       "    }\n",
       "</style>\n",
       "<table border=\"1\" class=\"dataframe\">\n",
       "  <thead>\n",
       "    <tr style=\"text-align: right;\">\n",
       "      <th></th>\n",
       "      <th>precision</th>\n",
       "      <th>recall</th>\n",
       "      <th>f1-score</th>\n",
       "      <th>epoch</th>\n",
       "    </tr>\n",
       "  </thead>\n",
       "  <tbody>\n",
       "    <tr>\n",
       "      <th>0</th>\n",
       "      <td>0.66685</td>\n",
       "      <td>0.642</td>\n",
       "      <td>0.64393</td>\n",
       "      <td>1</td>\n",
       "    </tr>\n",
       "    <tr>\n",
       "      <th>1</th>\n",
       "      <td>0.67811</td>\n",
       "      <td>0.675</td>\n",
       "      <td>0.67336</td>\n",
       "      <td>2</td>\n",
       "    </tr>\n",
       "    <tr>\n",
       "      <th>2</th>\n",
       "      <td>0.66842</td>\n",
       "      <td>0.658</td>\n",
       "      <td>0.65254</td>\n",
       "      <td>3</td>\n",
       "    </tr>\n",
       "    <tr>\n",
       "      <th>3</th>\n",
       "      <td>0.66792</td>\n",
       "      <td>0.653</td>\n",
       "      <td>0.64590</td>\n",
       "      <td>4</td>\n",
       "    </tr>\n",
       "    <tr>\n",
       "      <th>4</th>\n",
       "      <td>0.67423</td>\n",
       "      <td>0.669</td>\n",
       "      <td>0.66413</td>\n",
       "      <td>5</td>\n",
       "    </tr>\n",
       "  </tbody>\n",
       "</table>\n",
       "</div>"
      ],
      "text/plain": [
       "   precision  recall  f1-score  epoch\n",
       "0    0.66685   0.642   0.64393      1\n",
       "1    0.67811   0.675   0.67336      2\n",
       "2    0.66842   0.658   0.65254      3\n",
       "3    0.66792   0.653   0.64590      4\n",
       "4    0.67423   0.669   0.66413      5"
      ]
     },
     "execution_count": 18,
     "metadata": {},
     "output_type": "execute_result"
    }
   ],
   "source": [
    "epoch_performances_df"
   ]
  },
  {
   "cell_type": "markdown",
   "id": "8e1406fd",
   "metadata": {},
   "source": [
    "## Model final testing\n",
    "We will now evaluate the model on the test set."
   ]
  },
  {
   "cell_type": "markdown",
   "id": "09f7b63a",
   "metadata": {},
   "source": [
    "### Load the saved best model"
   ]
  },
  {
   "cell_type": "code",
   "execution_count": 19,
   "id": "3d2b13d0",
   "metadata": {},
   "outputs": [],
   "source": [
    "nlp = spacy.load(\"../models/sm-textcat\")"
   ]
  },
  {
   "cell_type": "markdown",
   "id": "1220bb11",
   "metadata": {},
   "source": [
    "### Get the ground truth labels for the test set"
   ]
  },
  {
   "cell_type": "code",
   "execution_count": 20,
   "id": "4353f92b",
   "metadata": {},
   "outputs": [
    {
     "data": {
      "text/plain": [
       "['negative', 'neutral', 'neutral', 'negative', 'neutral']"
      ]
     },
     "execution_count": 20,
     "metadata": {},
     "output_type": "execute_result"
    }
   ],
   "source": [
    "true_label_test = [[k for k, v in t[1]['cats'].items() if v > 0.5][0] for t in test]\n",
    "true_label_test[:5]"
   ]
  },
  {
   "cell_type": "markdown",
   "id": "82755fcf",
   "metadata": {},
   "source": [
    "### Get the predicted labels for the test set"
   ]
  },
  {
   "cell_type": "code",
   "execution_count": 21,
   "id": "8578b006",
   "metadata": {},
   "outputs": [],
   "source": [
    "test_results = nlp.pipe([x[0] for x in test])"
   ]
  },
  {
   "cell_type": "code",
   "execution_count": 22,
   "id": "7c8b4bd8",
   "metadata": {},
   "outputs": [],
   "source": [
    "preds = []\n",
    "for i, test_res in enumerate(test_results):\n",
    "    scores = list(test_res.cats.values())\n",
    "    keys = list(test_res.cats.keys())\n",
    "    preds.append(keys[scores.index(max(scores))])"
   ]
  },
  {
   "cell_type": "code",
   "execution_count": 23,
   "id": "6980687a",
   "metadata": {},
   "outputs": [
    {
     "data": {
      "text/plain": [
       "['negative', 'positive', 'neutral', 'negative', 'neutral']"
      ]
     },
     "execution_count": 23,
     "metadata": {},
     "output_type": "execute_result"
    }
   ],
   "source": [
    "preds[:5]"
   ]
  },
  {
   "cell_type": "markdown",
   "id": "b972e5aa",
   "metadata": {},
   "source": [
    "### Build the confusion matrix of the model on the test dataset"
   ]
  },
  {
   "cell_type": "code",
   "execution_count": 27,
   "id": "a3c43f19",
   "metadata": {},
   "outputs": [
    {
     "data": {
      "image/png": "[encoded data removed]",
      "text/plain": [
       "<Figure size 576x576 with 2 Axes>"
      ]
     },
     "metadata": {
      "needs_background": "light"
     },
     "output_type": "display_data"
    }
   ],
   "source": [
    "conf_mat = confusion_matrix(true_label_test, preds)\n",
    "fig, ax = plt.subplots(figsize=(8,8))\n",
    "sns.heatmap(conf_mat, annot=True, cmap=\"Blues\", fmt='d',\n",
    "            xticklabels=['negative', 'neutral', 'positive'], \n",
    "            yticklabels=['negative', 'neutral', 'positive'])\n",
    "plt.ylabel('Ground truth')\n",
    "plt.xlabel('Predicted')\n",
    "plt.title(\"CONFUSION MATRIX\", size=16);"
   ]
  },
  {
   "cell_type": "markdown",
   "id": "079e7ed3",
   "metadata": {},
   "source": [
    "### Evaluate the model performances on the test dataset\n",
    "We will compute the precision, recall and f1-score of the model over the dataset."
   ]
  },
  {
   "cell_type": "code",
   "execution_count": 28,
   "id": "a2d2156a",
   "metadata": {},
   "outputs": [
    {
     "name": "stderr",
     "output_type": "stream",
     "text": [
      "/opt/conda/lib/python3.7/site-packages/ipykernel_launcher.py:12: TqdmDeprecationWarning: This function will be removed in tqdm==5.0.0\n",
      "Please use `tqdm.notebook.tqdm` instead of `tqdm.tqdm_notebook`\n",
      "  if sys.path[0] == '':\n"
     ]
    },
    {
     "data": {
      "application/vnd.jupyter.widget-view+json": {
       "model_id": "e0bc7111a896495794a8d899f2345ad8",
       "version_major": 2,
       "version_minor": 0
      },
      "text/plain": [
       "0it [00:00, ?it/s]"
      ]
     },
     "metadata": {},
     "output_type": "display_data"
    }
   ],
   "source": [
    "model_performances = evaluate_model(nlp, test)"
   ]
  },
  {
   "cell_type": "code",
   "execution_count": 29,
   "id": "f2695e95",
   "metadata": {},
   "outputs": [
    {
     "data": {
      "text/plain": [
       "{'precision': 0.68714, 'recall': 0.68, 'f1-score': 0.67534}"
      ]
     },
     "execution_count": 29,
     "metadata": {},
     "output_type": "execute_result"
    }
   ],
   "source": [
    "model_performances"
   ]
  },
  {
   "cell_type": "markdown",
   "id": "815dd24b",
   "metadata": {},
   "source": [
    "#### *Observation*:\n",
    "The model is doing a decente job on sentiment categorization with an F1 socre of 67.5% on the test set. When looking at the confusion matrix we can see that the positive class mix a bit with the neutral classe, and the negative class with the neutral one as well. But the negative class is not really mixed up with the positive one, which is really good."
   ]
  },
  {
   "cell_type": "code",
   "execution_count": null,
   "id": "29f22b4d",
   "metadata": {},
   "outputs": [],
   "source": []
  }
 ],
 "metadata": {
  "environment": {
   "name": "common-cpu.m65",
   "type": "gcloud",
   "uri": "gcr.io/deeplearning-platform-release/base-cpu:m65"
  },
  "kernelspec": {
   "display_name": "Python 3",
   "language": "python",
   "name": "python3"
  },
  "language_info": {
   "codemirror_mode": {
    "name": "ipython",
    "version": 3
   },
   "file_extension": ".py",
   "mimetype": "text/x-python",
   "name": "python",
   "nbconvert_exporter": "python",
   "pygments_lexer": "ipython3",
   "version": "3.7.10"
  }
 },
 "nbformat": 4,
 "nbformat_minor": 5
}
